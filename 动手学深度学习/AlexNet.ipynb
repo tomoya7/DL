{
 "cells": [
  {
   "cell_type": "code",
   "execution_count": 11,
   "metadata": {},
   "outputs": [],
   "source": [
    "import gluonbook as gb\n",
    "from mxnet import gluon,init,nd\n",
    "from mxnet.gluon import data as gdata,nn,loss as gloss\n",
    "import mxnet as mx"
   ]
  },
  {
   "cell_type": "markdown",
   "metadata": {},
   "source": [
    "## Dataset"
   ]
  },
  {
   "cell_type": "code",
   "execution_count": 12,
   "metadata": {},
   "outputs": [],
   "source": [
    "resize,batch_size=224,128\n",
    "train_data=gdata.vision.FashionMNIST(train=True)\n",
    "test_data=gdata.vision.FashionMNIST(train=False)\n",
    "transfrom=gdata.vision.transforms.Compose([gdata.vision.transforms.Resize(224),gdata.vision.transforms.ToTensor()])\n",
    "train_iter=gdata.DataLoader(train_data.transform_first(transfrom),batch_size,shuffle=True)\n",
    "test_iter=gdata.DataLoader(test_data.transform_first(transfrom),batch_size,shuffle=False)"
   ]
  },
  {
   "cell_type": "markdown",
   "metadata": {},
   "source": [
    "## AlexNet(model)"
   ]
  },
  {
   "cell_type": "code",
   "execution_count": 13,
   "metadata": {},
   "outputs": [],
   "source": [
    "net=nn.Sequential()\n",
    "net.add(nn.Conv2D(kernel_size=11,channels=96,strides=4,activation='relu'),\n",
    "       nn.MaxPool2D(pool_size=3,strides=2),\n",
    "       nn.Conv2D(kernel_size=5,channels=256,padding=2,activation='relu'),\n",
    "       nn.MaxPool2D(pool_size=3,strides=2),\n",
    "       nn.Conv2D(channels=384,kernel_size=3,padding=1,activation='relu'),\n",
    "       nn.Conv2D(channels=384,kernel_size=3,padding=1,activation='relu'),\n",
    "       nn.Conv2D(channels=256,kernel_size=3,padding=1,activation='relu'),\n",
    "       nn.MaxPool2D(pool_size=3,strides=2),\n",
    "       nn.Dense(4096,activation='relu'),nn.Dropout(0.5),\n",
    "       nn.Dense(4096,activation='relu'),nn.Dropout(0.5),\n",
    "       nn.Dense(10))"
   ]
  },
  {
   "cell_type": "markdown",
   "metadata": {},
   "source": [
    "## train & eva"
   ]
  },
  {
   "cell_type": "code",
   "execution_count": 14,
   "metadata": {},
   "outputs": [
    {
     "name": "stdout",
     "output_type": "stream",
     "text": [
      "training on gpu(0)\n",
      "epoch 1, loss 1.2684, train acc 0.524, test acc 0.726, time 270.9 sec\n"
     ]
    }
   ],
   "source": [
    "lr,num_epochs=0.01,1\n",
    "net.initialize(ctx=mx.gpu(),init=init.Xavier())\n",
    "trainer=gluon.Trainer(net.collect_params(),'sgd',{'learning_rate':lr})\n",
    "gb.train_ch5(net,train_iter,test_iter,batch_size=batch_size,trainer=trainer,ctx=mx.gpu(),num_epochs=num_epochs)"
   ]
  }
 ],
 "metadata": {
  "kernelspec": {
   "display_name": "Python 3",
   "language": "python",
   "name": "python3"
  },
  "language_info": {
   "codemirror_mode": {
    "name": "ipython",
    "version": 3
   },
   "file_extension": ".py",
   "mimetype": "text/x-python",
   "name": "python",
   "nbconvert_exporter": "python",
   "pygments_lexer": "ipython3",
   "version": "3.5.2"
  }
 },
 "nbformat": 4,
 "nbformat_minor": 2
}
