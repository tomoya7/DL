{
 "cells": [
  {
   "cell_type": "code",
   "execution_count": 1,
   "metadata": {},
   "outputs": [
    {
     "name": "stderr",
     "output_type": "stream",
     "text": [
      "/home/tomoya/.local/lib/python3.5/site-packages/requests/__init__.py:80: RequestsDependencyWarning: urllib3 (1.23) or chardet (3.0.4) doesn't match a supported version!\n",
      "  RequestsDependencyWarning)\n"
     ]
    }
   ],
   "source": [
    "%matplotlib inline\n",
    "import random\n",
    "from matplotlib import pyplot as plt\n",
    "from IPython import display\n",
    "from mxnet import autograd,nd"
   ]
  },
  {
   "cell_type": "code",
   "execution_count": 2,
   "metadata": {},
   "outputs": [],
   "source": [
    "num_inputs=2\n",
    "num_examples=1000\n",
    "true_w=[2,-3.4]\n",
    "true_b=4.2\n",
    "features=nd.random.normal(scale=1,shape=(num_examples,num_inputs))\n",
    "labels=true_w[0]*features[:,0]+true_w[1]*features[:,1]+true_b\n",
    "labels+=nd.random.normal(scale=0.01,shape=labels.shape)"
   ]
  },
  {
   "cell_type": "code",
   "execution_count": 3,
   "metadata": {},
   "outputs": [
    {
     "data": {
      "text/plain": [
       "(\n",
       " [2.2122064 0.7740038]\n",
       " <NDArray 2 @cpu(0)>, \n",
       " [6.000587]\n",
       " <NDArray 1 @cpu(0)>)"
      ]
     },
     "execution_count": 3,
     "metadata": {},
     "output_type": "execute_result"
    }
   ],
   "source": [
    "features[0],labels[0]"
   ]
  },
  {
   "cell_type": "code",
   "execution_count": 4,
   "metadata": {},
   "outputs": [
    {
     "data": {
      "text/plain": [
       "<matplotlib.collections.PathCollection at 0x7f6a1b274860>"
      ]
     },
     "execution_count": 4,
     "metadata": {},
     "output_type": "execute_result"
    },
    {
     "data": {
      "image/png": "[encoded data removed]",
      "text/plain": [
       "<Figure size 432x288 with 1 Axes>"
      ]
     },
     "metadata": {},
     "output_type": "display_data"
    }
   ],
   "source": [
    "plt.scatter(features[:,1].asnumpy(),labels.asnumpy(),1)"
   ]
  },
  {
   "cell_type": "code",
   "execution_count": 5,
   "metadata": {},
   "outputs": [],
   "source": [
    "def data_iter(batch_size,features,labels):\n",
    "    num_examples=len(features)\n",
    "    indices=list(range(num_examples))\n",
    "    random.shuffle(indices)\n",
    "    for i in range(0,num_examples,batch_size):\n",
    "        j=nd.array(indices[i:min(i+batch_size,num_examples)])\n",
    "        yield features.take(j),labels.take(j)"
   ]
  },
  {
   "cell_type": "code",
   "execution_count": 6,
   "metadata": {},
   "outputs": [
    {
     "name": "stdout",
     "output_type": "stream",
     "text": [
      "\n",
      "[[ 0.4241809   1.691645  ]\n",
      " [ 1.047153   -0.13258979]\n",
      " [-0.591276   -1.2689118 ]\n",
      " [-0.97745866 -0.01658815]\n",
      " [-1.2519326  -0.90704834]\n",
      " [ 0.96885103 -1.0218245 ]\n",
      " [-1.2867846  -0.8787071 ]\n",
      " [ 0.6547287   0.82645124]\n",
      " [ 1.5590299   0.7573965 ]\n",
      " [-0.17849484 -0.14060703]]\n",
      "<NDArray 10x2 @cpu(0)> \n",
      "[-0.71003264  6.7498      7.325372    2.3091767   4.778022    9.628229\n",
      "  4.618967    2.699491    4.7515903   4.3257504 ]\n",
      "<NDArray 10 @cpu(0)>\n"
     ]
    }
   ],
   "source": [
    "batch_size=10\n",
    "for X,y in data_iter(batch_size,features,labels):\n",
    "    print(X,y)\n",
    "    break\n"
   ]
  },
  {
   "cell_type": "code",
   "execution_count": 7,
   "metadata": {},
   "outputs": [],
   "source": [
    "w=nd.random.normal(scale=0.01,shape=(num_inputs,1))\n",
    "b=nd.zeros(shape=(1,))"
   ]
  },
  {
   "cell_type": "code",
   "execution_count": 8,
   "metadata": {},
   "outputs": [],
   "source": [
    "w.attach_grad()\n",
    "b.attach_grad()"
   ]
  },
  {
   "cell_type": "code",
   "execution_count": 9,
   "metadata": {},
   "outputs": [],
   "source": [
    "def linear_reg(X,w,b):\n",
    "    return nd.dot(X,w)+b"
   ]
  },
  {
   "cell_type": "code",
   "execution_count": 10,
   "metadata": {},
   "outputs": [],
   "source": [
    "def squared_loss(y_hat,y,batch_size):\n",
    "    return nd.sum((y_hat-y.reshape(y_hat.shape))**2)/batch_size"
   ]
  },
  {
   "cell_type": "code",
   "execution_count": 11,
   "metadata": {},
   "outputs": [],
   "source": [
    "def sgd(params,lr):\n",
    "    for param in params:\n",
    "        param[:]=param-lr*param.grad"
   ]
  },
  {
   "cell_type": "code",
   "execution_count": 12,
   "metadata": {},
   "outputs": [
    {
     "name": "stdout",
     "output_type": "stream",
     "text": [
      "epoch 0,loss 0.000253\n",
      "epoch 1,loss 0.000101\n",
      "epoch 2,loss 0.000101\n"
     ]
    }
   ],
   "source": [
    "lr=0.03\n",
    "num_epochs=3\n",
    "net=linear_reg\n",
    "loss=squared_loss\n",
    "\n",
    "for epoch in range(num_epochs):\n",
    "    for X ,y in data_iter(batch_size,features,labels):\n",
    "        with autograd.record():\n",
    "            l=loss(net(X,w,b),y,batch_size)\n",
    "        l.backward()\n",
    "                                                                                                                                                                                                                                                                                                                                                                                                                                                                                                                                                                                                                                                                                                                                                                                                                                                                                                                                                                                                                                                                                                                                                                                                                                                                                                                                                                                                                                                                                                                                                                                                                                                                                                                                                                                                                                                                                                                                                                                                                                                                                                                                                                                                                                                                                                                                                                                                                                                                                                                                                                                                                                                                                                                                                                                                                                                                                                                                                                                                                                                                                                                                                                                                                                                                                                                                                                                                                                                                                                                                                                                                                                                                                                                                                                                                                                                                                                                                                                                                                                                                                                                                                                                                                                                                                                                                                                                                                                                                                                                                                                                                                                                                                                                                                                                                                                                                                                                                                                                                                                                                                                                                                                                                                                                                                                                                                                                                                                                        )\n",
    "    train_l=loss(net(features,w,b),labels,len(features))\n",
    "    print('epoch %d,loss %f'%(epoch,train_l.asnumpy()))\n"
   ]
  },
  {
   "cell_type": "code",
   "execution_count": 13,
   "metadata": {},
   "outputs": [
    {
     "data": {
      "text/plain": [
       "([2, -3.4], \n",
       " [[ 2.000104 ]\n",
       "  [-3.4003792]]\n",
       " <NDArray 2x1 @cpu(0)>)"
      ]
     },
     "execution_count": 13,
     "metadata": {},
     "output_type": "execute_result"
    }
   ],
   "source": [
    "true_w,w"
   ]
  },
  {
   "cell_type": "code",
   "execution_count": 14,
   "metadata": {},
   "outputs": [
    {
     "data": {
      "text/plain": [
       "(4.2, \n",
       " [4.2003884]\n",
       " <NDArray 1 @cpu(0)>)"
      ]
     },
     "execution_count": 14,
     "metadata": {},
     "output_type": "execute_result"
    }
   ],
   "source": [
    "true_b,b"
   ]
  }
 ],
 "metadata": {
  "kernelspec": {
   "display_name": "Python 3",
   "language": "python",
   "name": "python3"
  },
  "language_info": {
   "codemirror_mode": {
    "name": "ipython",
    "version": 3
   },
   "file_extension": ".py",
   "mimetype": "text/x-python",
   "name": "python",
   "nbconvert_exporter": "python",
   "pygments_lexer": "ipython3",
   "version": "3.5.2"
  }
 },
 "nbformat": 4,
 "nbformat_minor": 2
}
