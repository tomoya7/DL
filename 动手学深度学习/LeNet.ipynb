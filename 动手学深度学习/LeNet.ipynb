{
 "cells": [
  {
   "cell_type": "code",
   "execution_count": 2,
   "metadata": {},
   "outputs": [
    {
     "ename": "ModuleNotFoundError",
     "evalue": "No module named 'mxnet'",
     "output_type": "error",
     "traceback": [
      "\u001b[0;31m---------------------------------------------------------------------------\u001b[0m",
      "\u001b[0;31mModuleNotFoundError\u001b[0m                       Traceback (most recent call last)",
      "\u001b[0;32m<ipython-input-2-14c55ac604cb>\u001b[0m in \u001b[0;36m<module>\u001b[0;34m()\u001b[0m\n\u001b[0;32m----> 1\u001b[0;31m \u001b[0;32mimport\u001b[0m \u001b[0mmxnet\u001b[0m \u001b[0;32mas\u001b[0m \u001b[0mmx\u001b[0m\u001b[0;34m\u001b[0m\u001b[0m\n\u001b[0m\u001b[1;32m      2\u001b[0m \u001b[0;32mfrom\u001b[0m \u001b[0mmxnet\u001b[0m \u001b[0;32mimport\u001b[0m \u001b[0mautograd\u001b[0m\u001b[0;34m,\u001b[0m\u001b[0mgluon\u001b[0m\u001b[0;34m,\u001b[0m\u001b[0minit\u001b[0m\u001b[0;34m,\u001b[0m\u001b[0mnd\u001b[0m\u001b[0;34m\u001b[0m\u001b[0m\n\u001b[1;32m      3\u001b[0m \u001b[0;32mfrom\u001b[0m \u001b[0mmxnet\u001b[0m\u001b[0;34m.\u001b[0m\u001b[0mgluon\u001b[0m \u001b[0;32mimport\u001b[0m \u001b[0mloss\u001b[0m \u001b[0;32mas\u001b[0m \u001b[0mgloss\u001b[0m \u001b[0;34m,\u001b[0m\u001b[0mnn\u001b[0m\u001b[0;34m\u001b[0m\u001b[0m\n\u001b[1;32m      4\u001b[0m \u001b[0;32mimport\u001b[0m \u001b[0mtime\u001b[0m\u001b[0;34m\u001b[0m\u001b[0m\n",
      "\u001b[0;31mModuleNotFoundError\u001b[0m: No module named 'mxnet'"
     ]
    }
   ],
   "source": [
    "import mxnet as mx\n",
    "from mxnet import autograd,gluon,init,nd\n",
    "from mxnet.gluon import loss as gloss ,nn\n",
    "import time"
   ]
  },
  {
   "cell_type": "code",
   "execution_count": 2,
   "metadata": {},
   "outputs": [],
   "source": [
    "net=nn.Sequential()\n",
    "net.add(nn.Conv2D(kernel_size=5,activation='sigmoid',channels=6),\n",
    "        nn.MaxPool2D(pool_size=2),\n",
    "       nn.Conv2D(kernel_size=5,activation='sigmoid',channels=16),\n",
    "       nn.MaxPool2D(pool_size=2),\n",
    "       nn.Dense(120,activation='sigmoid'),\n",
    "       nn.Dense(84,activation='sigmoid'),\n",
    "       nn.Dense(10))"
   ]
  },
  {
   "cell_type": "code",
   "execution_count": 4,
   "metadata": {},
   "outputs": [],
   "source": [
    "batch_size=256\n",
    "train_iter,test_iter=gb.load_data_fashion_mnist(batch_size=batch_size)"
   ]
  },
  {
   "cell_type": "code",
   "execution_count": 6,
   "metadata": {},
   "outputs": [],
   "source": [
    "def evaluate_accuracy(data_iter,net):\n",
    "    acc=nd.array([0],ctx=mx.gpu())\n",
    "    for X,y in data_iter:\n",
    "        X=X.as_in_context(mx.gpu())\n",
    "        y=y.as_in_context(mx.gpu())\n",
    "        acc+=gb.accuracy(net(X),y)\n",
    "    return acc.asscalar()"
   ]
  },
  {
   "cell_type": "code",
   "execution_count": 7,
   "metadata": {},
   "outputs": [],
   "source": [
    "def train_ch5(net,train_iter,test_iter,batch_size,trainer,num_epochs):\n",
    "    print('train on ' ,mx.gpu())\n",
    "    loss=gloss.SoftmaxCrossEntropyLoss()\n",
    "    for epoch in range(num_epochs):\n",
    "        train_acc_sum,test_acc_sum=0,0\n",
    "        start=time.time()\n",
    "        for X,y in train_iter:\n",
    "            X=X.as_in_context(mx.gpu())\n",
    "            y=y.as_in_context(mx.gpu())\n",
    "            with autograd.record():\n",
    "                l=loss(net(X),y)\n",
    "            l.backward()\n",
    "            trainer.step(batch_size)\n",
    "            train_acc_sum+=gb.accuracy(net(X),y)\n",
    "        test_acc_sum=evaluate_accuracy(test_iter,net)\n",
    "        print('epoch %d,train acc:%.3f ,test acc %.3f,time %.1f sec'%(epoch,train_acc_sum/len(train_iter),test_acc_sum/len(test_iter),time.time()-start))\n",
    "            \n",
    "    "
   ]
  },
  {
   "cell_type": "code",
   "execution_count": 8,
   "metadata": {},
   "outputs": [
    {
     "name": "stdout",
     "output_type": "stream",
     "text": [
      "train on  gpu(0)\n",
      "epoch 0,train acc:0.130 ,test acc 0.099,time 4.7 sec\n",
      "epoch 1,train acc:0.305 ,test acc 0.571,time 2.7 sec\n",
      "epoch 2,train acc:0.641 ,test acc 0.696,time 2.7 sec\n",
      "epoch 3,train acc:0.719 ,test acc 0.725,time 2.7 sec\n",
      "epoch 4,train acc:0.747 ,test acc 0.753,time 2.8 sec\n"
     ]
    }
   ],
   "source": [
    "lr,num_epochs=0.8,5\n",
    "net.initialize(force_reinit=True,ctx=mx.gpu(),init=init.Xavier())\n",
    "trainer=gluon.Trainer(net.collect_params(),'sgd',{'learning_rate':lr})\n",
    "train_ch5(net,train_iter,test_iter,batch_size,trainer,num_epochs)\n"
   ]
  },
  {
   "cell_type": "code",
   "execution_count": null,
   "metadata": {},
   "outputs": [],
   "source": []
  }
 ],
 "metadata": {
  "kernelspec": {
   "display_name": "Python 3",
   "language": "python",
   "name": "python3"
  },
  "language_info": {
   "codemirror_mode": {
    "name": "ipython",
    "version": 3
   },
   "file_extension": ".py",
   "mimetype": "text/x-python",
   "name": "python",
   "nbconvert_exporter": "python",
   "pygments_lexer": "ipython3",
   "version": "3.7.0"
  }
 },
 "nbformat": 4,
 "nbformat_minor": 2
}
