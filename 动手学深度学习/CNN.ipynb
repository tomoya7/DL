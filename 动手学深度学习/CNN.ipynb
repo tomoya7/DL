{
 "cells": [
  {
   "cell_type": "code",
   "execution_count": 101,
   "metadata": {},
   "outputs": [],
   "source": [
    "from mxnet import autograd,nd\n",
    "from mxnet.gluon import nn"
   ]
  },
  {
   "cell_type": "markdown",
   "metadata": {},
   "source": [
    "## Convolution"
   ]
  },
  {
   "cell_type": "code",
   "execution_count": 102,
   "metadata": {},
   "outputs": [],
   "source": [
    "def corr2d(X,K):\n",
    "    Y=nd.zeros(shape=(X.shape[0]-K.shape[0]+1,X.shape[1]-K.shape[1]+1))\n",
    "    for i in range(Y.shape[0]):\n",
    "        for j in range(Y.shape[1]):\n",
    "            Y[i,j]=(X[i:i+K.shape[0],j:j+K.shape[1]]*K).sum()\n",
    "    return Y"
   ]
  },
  {
   "cell_type": "markdown",
   "metadata": {},
   "source": [
    "## detect(apply)"
   ]
  },
  {
   "cell_type": "code",
   "execution_count": 103,
   "metadata": {},
   "outputs": [
    {
     "data": {
      "text/plain": [
       "(\n",
       " [[1. 1. 0. 0. 0. 0. 1. 1.]\n",
       "  [1. 1. 0. 0. 0. 0. 1. 1.]\n",
       "  [1. 1. 0. 0. 0. 0. 1. 1.]\n",
       "  [1. 1. 0. 0. 0. 0. 1. 1.]\n",
       "  [1. 1. 0. 0. 0. 0. 1. 1.]\n",
       "  [1. 1. 0. 0. 0. 0. 1. 1.]]\n",
       " <NDArray 6x8 @cpu(0)>, \n",
       " [[ 0.  1.  0.  0.  0. -1.  0.]\n",
       "  [ 0.  1.  0.  0.  0. -1.  0.]\n",
       "  [ 0.  1.  0.  0.  0. -1.  0.]\n",
       "  [ 0.  1.  0.  0.  0. -1.  0.]\n",
       "  [ 0.  1.  0.  0.  0. -1.  0.]\n",
       "  [ 0.  1.  0.  0.  0. -1.  0.]]\n",
       " <NDArray 6x7 @cpu(0)>)"
      ]
     },
     "execution_count": 103,
     "metadata": {},
     "output_type": "execute_result"
    }
   ],
   "source": [
    "X = nd.ones((6, 8))\n",
    "X[:, 2:6] = 0\n",
    "K = nd.array([[1, -1]])\n",
    "Y = corr2d(X, K)\n",
    "X,Y"
   ]
  },
  {
   "cell_type": "markdown",
   "metadata": {},
   "source": [
    "## learn the K"
   ]
  },
  {
   "cell_type": "code",
   "execution_count": 104,
   "metadata": {},
   "outputs": [
    {
     "name": "stdout",
     "output_type": "stream",
     "text": [
      "epoch 10,loss 0.004\n",
      "\n",
      "[[[[ 0.9894602 -0.9874791]]]]\n",
      "<NDArray 1x1x1x2 @cpu(0)>\n"
     ]
    }
   ],
   "source": [
    "conv2d=nn.Conv2D(1,kernel_size=(1,2))\n",
    "conv2d.initialize()\n",
    "X=X.reshape(1,1,6,-1)\n",
    "Y=Y.reshape(1,1,6,-1)\n",
    "for i in range(10):\n",
    "    with autograd.record():\n",
    "        Y_pred=conv2d(X)\n",
    "        l=(Y_pred-Y)**2\n",
    "    l.backward()\n",
    "    conv2d.weight.data()[:]=conv2d.weight.data()-3e-2*conv2d.weight.grad()\n",
    "print(\"epoch %d,loss %.3f\"%(i+1,l.sum().asscalar()))\n",
    "print(conv2d.weight.data())"
   ]
  },
  {
   "cell_type": "markdown",
   "metadata": {},
   "source": [
    "## padding"
   ]
  },
  {
   "cell_type": "code",
   "execution_count": 105,
   "metadata": {},
   "outputs": [
    {
     "data": {
      "text/plain": [
       "(6, 6)"
      ]
     },
     "execution_count": 105,
     "metadata": {},
     "output_type": "execute_result"
    }
   ],
   "source": [
    "def  comp_conv2d(conv2d,X):\n",
    "    conv2d.initialize()\n",
    "    X=X.reshape((1,1)+X.shape)\n",
    "    Y=conv2d(X)\n",
    "    return Y.shape[2:]\n",
    "X=nd.random.uniform(shape=(6,6))\n",
    "conv2d=nn.Conv2D(1,kernel_size=3,padding=1)\n",
    "comp_conv2d(conv2d,X)"
   ]
  },
  {
   "cell_type": "markdown",
   "metadata": {},
   "source": [
    "## stride"
   ]
  },
  {
   "cell_type": "code",
   "execution_count": 106,
   "metadata": {},
   "outputs": [
    {
     "data": {
      "text/plain": [
       "(3, 3)"
      ]
     },
     "execution_count": 106,
     "metadata": {},
     "output_type": "execute_result"
    }
   ],
   "source": [
    "conv2d=nn.Conv2D(1,kernel_size=3,padding=1,strides=2)\n",
    "comp_conv2d(conv2d,X)"
   ]
  },
  {
   "cell_type": "markdown",
   "metadata": {},
   "source": [
    "## channel"
   ]
  },
  {
   "cell_type": "code",
   "execution_count": 107,
   "metadata": {},
   "outputs": [],
   "source": [
    "import gluonbook as gb\n",
    "def corr2d_multi_in(X,K):\n",
    "    return nd.add_n(*[corr2d(x,k) for x,k in zip(X,K)])"
   ]
  },
  {
   "cell_type": "code",
   "execution_count": 108,
   "metadata": {},
   "outputs": [
    {
     "data": {
      "text/plain": [
       "((2, 3, 3), (2, 2, 2), (2, 2))"
      ]
     },
     "execution_count": 108,
     "metadata": {},
     "output_type": "execute_result"
    }
   ],
   "source": [
    "X=nd.array([[[0,1,2],[3,4,5],[6,7,8]],\n",
    "            [[1,2,3],[4,5,6],[7,8,9]]])\n",
    "K=nd.array([[[0,1],[2,3]],[[1,2],[3,4]]])\n",
    "X.shape,K.shape,corr2d_multi_in(X,K).shape"
   ]
  },
  {
   "cell_type": "code",
   "execution_count": 109,
   "metadata": {},
   "outputs": [],
   "source": [
    "def corr2d_multi_in_out(X,K):\n",
    "    return nd.stack(*[corr2d_multi_in(X,k) for k in K])"
   ]
  },
  {
   "cell_type": "code",
   "execution_count": 110,
   "metadata": {},
   "outputs": [
    {
     "data": {
      "text/plain": [
       "((2, 3, 3), (3, 2, 2, 2), (3, 2, 2))"
      ]
     },
     "execution_count": 110,
     "metadata": {},
     "output_type": "execute_result"
    }
   ],
   "source": [
    "K=nd.array([[[0,1],[2,3]],[[1,2],[3,4]]])\n",
    "K=nd.stack(K,K+1,K+2)\n",
    "X.shape,K.shape,corr2d_multi_in_out(X,K).shape"
   ]
  },
  {
   "cell_type": "markdown",
   "metadata": {},
   "source": [
    "##  pooling"
   ]
  },
  {
   "cell_type": "code",
   "execution_count": 111,
   "metadata": {},
   "outputs": [],
   "source": [
    "def pool2d(X,pool_size,mode='max'):\n",
    "    Y=nd.ones(shape=(X.shape[0]-pool_size[0]+1,X.shape[1]+1-pool_size[1]))\n",
    "    for  i in range(Y.shape[0]):\n",
    "        for j in range(Y.shape[1]):\n",
    "            if mode == 'max':\n",
    "                Y[i,j]=X[i:i+pool_size[0],j:j+pool_size[1]].max()\n",
    "            elif mode =='avg':\n",
    "                Y[i,j]=X[i:i+pool_size[0],j:j+pool_size[1]].mean()\n",
    "    return Y"
   ]
  },
  {
   "cell_type": "code",
   "execution_count": 112,
   "metadata": {},
   "outputs": [
    {
     "data": {
      "text/plain": [
       "\n",
       "[[4. 5.]\n",
       " [7. 8.]]\n",
       "<NDArray 2x2 @cpu(0)>"
      ]
     },
     "execution_count": 112,
     "metadata": {},
     "output_type": "execute_result"
    }
   ],
   "source": [
    "X=nd.array([[0,1,2],[3,4,5],[6,7,8]])\n",
    "pool2d(X,(2,2))"
   ]
  },
  {
   "cell_type": "code",
   "execution_count": 113,
   "metadata": {},
   "outputs": [
    {
     "data": {
      "text/plain": [
       "\n",
       "[[[[ 5.  7.]\n",
       "   [13. 15.]]]]\n",
       "<NDArray 1x1x2x2 @cpu(0)>"
      ]
     },
     "execution_count": 113,
     "metadata": {},
     "output_type": "execute_result"
    }
   ],
   "source": [
    "X=nd.arange(16).reshape((1,1,4,-1))\n",
    "pool2d=nn.MaxPool2D(pool_size=3,padding=1)\n",
    "pool2d(X)"
   ]
  }
 ],
 "metadata": {
  "kernelspec": {
   "display_name": "Python 3",
   "language": "python",
   "name": "python3"
  },
  "language_info": {
   "codemirror_mode": {
    "name": "ipython",
    "version": 3
   },
   "file_extension": ".py",
   "mimetype": "text/x-python",
   "name": "python",
   "nbconvert_exporter": "python",
   "pygments_lexer": "ipython3",
   "version": "3.5.2"
  }
 },
 "nbformat": 4,
 "nbformat_minor": 2
}
