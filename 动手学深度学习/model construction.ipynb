{
 "cells": [
  {
   "cell_type": "code",
   "execution_count": 5,
   "metadata": {},
   "outputs": [],
   "source": [
    "from mxnet import nd\n",
    "from mxnet.gluon import nn"
   ]
  },
  {
   "cell_type": "code",
   "execution_count": 4,
   "metadata": {},
   "outputs": [],
   "source": [
    "class MLP(nn.Block):\n",
    "    def __init__(self):\n",
    "        super(MLP,self).__init__()\n",
    "        self.hidden=nn.Dense(256,activation='relu')\n",
    "        self.output=nn.Dense(10)\n",
    "    def forward(self,X):\n",
    "        return self.output(self.hidden(X))\n",
    "    "
   ]
  },
  {
   "cell_type": "code",
   "execution_count": 7,
   "metadata": {},
   "outputs": [
    {
     "data": {
      "text/plain": [
       "\n",
       "[[ 0.09543004  0.04614332 -0.00286654 -0.07790349 -0.05130243  0.02942037\n",
       "   0.08696642 -0.0190793  -0.04122177  0.05088576]\n",
       " [ 0.0769287   0.03099705  0.00856576 -0.04467199 -0.06926839  0.09132434\n",
       "   0.06786595 -0.06187842 -0.03436673  0.04234694]]\n",
       "<NDArray 2x10 @cpu(0)>"
      ]
     },
     "execution_count": 7,
     "metadata": {},
     "output_type": "execute_result"
    }
   ],
   "source": [
    "X=nd.random.uniform(shape=(2,20))\n",
    "net=MLP()\n",
    "net.initialize()\n",
    "net(X)"
   ]
  },
  {
   "cell_type": "code",
   "execution_count": 11,
   "metadata": {},
   "outputs": [],
   "source": [
    "class MySequential(nn.Block):\n",
    "    def __init__(self):\n",
    "        super(MySequential,self).__init__()\n",
    "        \n",
    "    def add(self,module):\n",
    "        self._children[module.name]=module\n",
    "    def forward(self,X):\n",
    "        for module in self._children.values():\n",
    "            X=module(X)\n",
    "        return X\n",
    "    "
   ]
  },
  {
   "cell_type": "code",
   "execution_count": 15,
   "metadata": {},
   "outputs": [
    {
     "data": {
      "text/plain": [
       "\n",
       "[[ 0.01643168 -0.0505143   0.02391549 -0.02867091 -0.00434433  0.09533604\n",
       "   0.02005773 -0.03119978 -0.10578526 -0.05979412]\n",
       " [-0.00506383 -0.03359741  0.03437462 -0.02052616  0.00750228  0.12074246\n",
       "   0.01565659 -0.01937754 -0.08844364 -0.07949547]]\n",
       "<NDArray 2x10 @cpu(0)>"
      ]
     },
     "execution_count": 15,
     "metadata": {},
     "output_type": "execute_result"
    }
   ],
   "source": [
    "net=MySequential()\n",
    "net.add(nn.Dense(256,activation='relu'))\n",
    "net.add(nn.Dense(10))\n",
    "net.initialize()\n",
    "net(X)"
   ]
  },
  {
   "cell_type": "code",
   "execution_count": 21,
   "metadata": {},
   "outputs": [],
   "source": [
    "\n",
    "class FancyMLP(nn.Block):\n",
    "    def __init__(self):\n",
    "        super(FancyMLP,self).__init__()\n",
    "        self.rand_weight=self.params.get_constant('rand_weight',nd.random.uniform(shape=(20,20)))\n",
    "        self.dense=nn.Dense(20,activation='relu')\n",
    "    def forward(self ,X):\n",
    "        X=self.dense(X)\n",
    "        X=nd.relu(nd.dot(X,self.rand_weight.data())+1)\n",
    "        X=self.dense(X)\n",
    "        if X.norm().asscalar()>1:\n",
    "            X/=2\n",
    "        elif X.norm().asscalar()<0.8:\n",
    "            X *=10\n",
    "        return X.sum()\n",
    "    "
   ]
  },
  {
   "cell_type": "code",
   "execution_count": 40,
   "metadata": {},
   "outputs": [
    {
     "data": {
      "text/plain": [
       "\n",
       "[19.681845]\n",
       "<NDArray 1 @cpu(0)>"
      ]
     },
     "execution_count": 40,
     "metadata": {},
     "output_type": "execute_result"
    }
   ],
   "source": [
    "net=FancyMLP()\n",
    "net.initialize()\n",
    "net(X)"
   ]
  }
 ],
 "metadata": {
  "kernelspec": {
   "display_name": "Python 3",
   "language": "python",
   "name": "python3"
  },
  "language_info": {
   "codemirror_mode": {
    "name": "ipython",
    "version": 3
   },
   "file_extension": ".py",
   "mimetype": "text/x-python",
   "name": "python",
   "nbconvert_exporter": "python",
   "pygments_lexer": "ipython3",
   "version": "3.5.2"
  }
 },
 "nbformat": 4,
 "nbformat_minor": 2
}
