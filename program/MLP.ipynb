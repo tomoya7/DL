{
 "cells": [
  {
   "cell_type": "code",
   "execution_count": 2,
   "metadata": {},
   "outputs": [],
   "source": [
    "import gluonbook as gb\n",
    "from mxnet import nd\n",
    "from mxnet.gluon import loss as gloss"
   ]
  },
  {
   "cell_type": "code",
   "execution_count": 3,
   "metadata": {},
   "outputs": [],
   "source": [
    "batch_size=256\n",
    "train_iter,test_iter=gb.load_data_fashion_mnist(batch_size)"
   ]
  },
  {
   "cell_type": "code",
   "execution_count": 6,
   "metadata": {},
   "outputs": [],
   "source": [
    "num_inputs=28*28\n",
    "num_hiddens=256\n",
    "num_outputs=10\n",
    "W1=nd.random.normal(scale=0.01,shape=(num_inputs,num_hiddens))\n",
    "b1=nd.zeros(num_hiddens)\n",
    "W2=nd.random.normal(scale=0.01,shape=(num_hiddens,num_outputs))\n",
    "b2=nd.zeros(num_outputs)\n",
    "params=[W1,b1,W2,b2]\n",
    "for param in params:\n",
    "    param.attach_grad()\n"
   ]
  },
  {
   "cell_type": "code",
   "execution_count": 18,
   "metadata": {},
   "outputs": [],
   "source": [
    "def relu(X):\n",
    "    return nd.maximum(X,0)\n",
    "\n",
    "    "
   ]
  },
  {
   "cell_type": "code",
   "execution_count": 19,
   "metadata": {},
   "outputs": [],
   "source": [
    "def net(X):\n",
    "    X=X.reshape((-1,num_inputs))\n",
    "    H=relu(nd.dot(X,W1)+b1)\n",
    "    return nd.dot(H,W2)+b2\n"
   ]
  },
  {
   "cell_type": "code",
   "execution_count": 20,
   "metadata": {},
   "outputs": [],
   "source": [
    "loss=gloss.SoftmaxCrossEntropyLoss()"
   ]
  },
  {
   "cell_type": "code",
   "execution_count": 21,
   "metadata": {},
   "outputs": [
    {
     "name": "stdout",
     "output_type": "stream",
     "text": [
      "epoch 1, loss 0.3030, train acc 0.888, test acc 0.876\n",
      "epoch 2, loss 0.2916, train acc 0.892, test acc 0.883\n",
      "epoch 3, loss 0.2844, train acc 0.895, test acc 0.885\n",
      "epoch 4, loss 0.2771, train acc 0.896, test acc 0.883\n",
      "epoch 5, loss 0.2728, train acc 0.897, test acc 0.881\n"
     ]
    }
   ],
   "source": [
    "num_epochs=5\n",
    "lr=0.5\n",
    "gb.train_ch3(net,train_iter,test_iter,loss,num_epochs,batch_size,params,lr)"
   ]
  },
  {
   "cell_type": "code",
   "execution_count": null,
   "metadata": {},
   "outputs": [],
   "source": []
  },
  {
   "cell_type": "code",
   "execution_count": null,
   "metadata": {},
   "outputs": [],
   "source": []
  }
 ],
 "metadata": {
  "kernelspec": {
   "display_name": "Python 3",
   "language": "python",
   "name": "python3"
  },
  "language_info": {
   "codemirror_mode": {
    "name": "ipython",
    "version": 3
   },
   "file_extension": ".py",
   "mimetype": "text/x-python",
   "name": "python",
   "nbconvert_exporter": "python",
   "pygments_lexer": "ipython3",
   "version": "3.5.2"
  }
 },
 "nbformat": 4,
 "nbformat_minor": 2
}
