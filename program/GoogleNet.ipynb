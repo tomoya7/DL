{
 "cells": [
  {
   "cell_type": "code",
   "execution_count": 4,
   "metadata": {},
   "outputs": [],
   "source": [
    "import gluonbook as gb\n",
    "from mxnet import gluon ,init,nd\n",
    "from mxnet.gluon import nn\n",
    "import mxnet as mx"
   ]
  },
  {
   "cell_type": "markdown",
   "metadata": {},
   "source": [
    "## Dataset"
   ]
  },
  {
   "cell_type": "code",
   "execution_count": 5,
   "metadata": {},
   "outputs": [],
   "source": [
    "batch_size=128\n",
    "train_iter,test_iter=gb.load_data_fashion_mnist(batch_size,resize=96)"
   ]
  },
  {
   "cell_type": "markdown",
   "metadata": {},
   "source": [
    "## model(googlenet)"
   ]
  },
  {
   "cell_type": "code",
   "execution_count": 89,
   "metadata": {},
   "outputs": [],
   "source": [
    "class Inception(nn.Block):\n",
    "    def __init__(self,c1,c2,c3,c4):\n",
    "        super(Inception,self).__init__()\n",
    "        \n",
    "        self.p1_1=nn.Conv2D(c1,kernel_size=1,activation='relu')\n",
    "        \n",
    "        self.p2_1=nn.Conv2D(c2[0],kernel_size=1,activation='relu')\n",
    "        self.p2_2=nn.Conv2D(c2[1],kernel_size=3,padding=1,activation='relu')\n",
    "        \n",
    "        self.p3_1=nn.Conv2D(c3[0],kernel_size=1,activation='relu')\n",
    "        self.p3_2=nn.Conv2D(c3[1],kernel_size=5,padding=2,activation='relu')\n",
    "        \n",
    "        self.p4_1=nn.MaxPool2D(pool_size=3,padding=1,strides=1)\n",
    "        self.p4_2=nn.Conv2D(c4,kernel_size=1,activation='relu')\n",
    "    def forward(self,X):\n",
    "        p1=self.p1_1(X)\n",
    "        p2=self.p2_2(self.p2_1(X))\n",
    "        p3=self.p3_2(self.p3_1(X))\n",
    "        p4=self.p4_2(self.p4_1(X))\n",
    "        return nd.concat(p1,p2,p3,p4,dim=1)"
   ]
  },
  {
   "cell_type": "code",
   "execution_count": 90,
   "metadata": {},
   "outputs": [],
   "source": [
    "b1=nn.Sequential()\n",
    "b1.add(nn.Conv2D(64,kernel_size=7,strides=2,padding=3,activation='relu'),\n",
    "      nn.MaxPool2D(pool_size=3,padding=1,strides=2))"
   ]
  },
  {
   "cell_type": "code",
   "execution_count": 91,
   "metadata": {},
   "outputs": [],
   "source": [
    "b2=nn.Sequential()\n",
    "b2.add(nn.Conv2D(64,kernel_size=1),\n",
    "      nn.Conv2D(192,kernel_size=3,padding=1),\n",
    "      nn.MaxPool2D(pool_size=3,strides=2,padding=1))"
   ]
  },
  {
   "cell_type": "code",
   "execution_count": 92,
   "metadata": {},
   "outputs": [],
   "source": [
    "b3=nn.Sequential()\n",
    "b3.add(Inception(64,(96,128),(16,32),32),\n",
    "      Inception(128,(128,192),(32,96),64),\n",
    "      nn.MaxPool2D(pool_size=3,strides=2,padding=1))"
   ]
  },
  {
   "cell_type": "code",
   "execution_count": 93,
   "metadata": {},
   "outputs": [],
   "source": [
    "b4=nn.Sequential()\n",
    "b4.add(Inception(192,(96,208),(16,48),64),\n",
    "      Inception(160,(112,224),(24,64),64),\n",
    "      Inception(128,(128,256),(24,64),64),\n",
    "      Inception(112,(144,288),(32,64),64),\n",
    "      Inception(256,(160,320),(32,128),128),\n",
    "      nn.MaxPool2D(pool_size=3,padding=1,strides=2))"
   ]
  },
  {
   "cell_type": "code",
   "execution_count": 94,
   "metadata": {},
   "outputs": [],
   "source": [
    "b5=nn.Sequential()\n",
    "b5.add(Inception(256,(160,320),(32,128),128),\n",
    "      Inception(384,(192,384),(48,128),128),\n",
    "      nn.GlobalAvgPool2D())"
   ]
  },
  {
   "cell_type": "code",
   "execution_count": 95,
   "metadata": {},
   "outputs": [],
   "source": [
    "net=nn.Sequential()\n",
    "net.add(b1,b2,b3,b4,b5,nn.Dense(10))"
   ]
  },
  {
   "cell_type": "markdown",
   "metadata": {},
   "source": [
    "## train & eva"
   ]
  },
  {
   "cell_type": "code",
   "execution_count": 101,
   "metadata": {},
   "outputs": [
    {
     "name": "stdout",
     "output_type": "stream",
     "text": [
      "training on gpu(0)\n",
      "epoch 1, loss 2.0958, train acc 0.228, test acc 0.670, time 244.4 sec\n",
      "epoch 2, loss 0.7170, train acc 0.728, test acc 0.832, time 229.5 sec\n",
      "epoch 3, loss 0.4702, train acc 0.825, test acc 0.862, time 230.6 sec\n",
      "epoch 4, loss 0.3786, train acc 0.855, test acc 0.876, time 230.9 sec\n",
      "epoch 5, loss 0.3390, train acc 0.872, test acc 0.885, time 230.9 sec\n"
     ]
    }
   ],
   "source": [
    "lr,num_epochs,ctx=0.1,5,mx.gpu()\n",
    "net.initialize(force_reinit=True,ctx=ctx,init=init.Xavier())\n",
    "trainer=gluon.Trainer(net.collect_params(),'sgd',{'learning_rate':lr})\n",
    "gb.train_ch5(net,train_iter,test_iter,batch_size,trainer,ctx,num_epochs)"
   ]
  }
 ],
 "metadata": {
  "kernelspec": {
   "display_name": "Python 3",
   "language": "python",
   "name": "python3"
  },
  "language_info": {
   "codemirror_mode": {
    "name": "ipython",
    "version": 3
   },
   "file_extension": ".py",
   "mimetype": "text/x-python",
   "name": "python",
   "nbconvert_exporter": "python",
   "pygments_lexer": "ipython3",
   "version": "3.5.2"
  }
 },
 "nbformat": 4,
 "nbformat_minor": 2
}
