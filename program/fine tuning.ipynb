{
 "cells": [
  {
   "cell_type": "code",
   "execution_count": null,
   "metadata": {},
   "outputs": [],
   "source": [
    "import gluonbook  as gb\n",
    "from mxnet import gluon,init,nd\n",
    "from mxnet.gluon import data as gdata ,loss as gloss,model_zoo\n",
    "from mxnet.gluon import utils as gutils\n",
    "import os \n",
    "import zipfile\n",
    "import mxnet as mx"
   ]
  },
  {
   "cell_type": "markdown",
   "metadata": {},
   "source": [
    "## Dataset"
   ]
  },
  {
   "cell_type": "code",
   "execution_count": null,
   "metadata": {},
   "outputs": [],
   "source": [
    "if not os.path.exists('../data/hotdog.zip'):\n",
    "    os.system('curl https://apache-mxnet.s3-accelerate.amazonaws.com/gluon/dataset/hotdog.zip -o ../data/hotdog.zip')\n",
    "with zipfile.ZipFile('../data/hotdog.zip') as zin:\n",
    "    zin.extractall('../data/')\n",
    "train_data=gdata.vision.ImageFolderDataset('../data/hotdog/train/')\n",
    "test_data=gdata.vision.ImageFolderDataset('../data/hotdog/test/')"
   ]
  },
  {
   "cell_type": "code",
   "execution_count": null,
   "metadata": {},
   "outputs": [],
   "source": [
    "train_augs=gdata.vision.transforms.Compose([gdata.vision.transforms.RandomResizedCrop(224),\n",
    "                                          gdata.vision.transforms.RandomFlipLeftRight(),\n",
    "                                          gdata.vision.transforms.ToTensor(),\n",
    "                                          gdata.vision.transforms.Normalize([0.485,0.456,0.406],[0.229,0.224,0.225])])\n",
    "\n",
    "test_augs=gdata.vision.transforms.Compose([gdata.vision.transforms.Resize(256),\n",
    "                                         gdata.vision.transforms.CenterCrop(224),\n",
    "                                         gdata.vision.transforms.ToTensor(),\n",
    "                                         gdata.vision.transforms.Normalize([0.485,0.456,0.406],[0.229,0.224,0.225])])\n",
    "\n"
   ]
  },
  {
   "cell_type": "code",
   "execution_count": null,
   "metadata": {},
   "outputs": [],
   "source": [
    "batch_size=128\n",
    "train_iter=gdata.DataLoader(train_data.transform_first(train_augs),batch_size=batch_size,shuffle=True)\n",
    "test_iter=gdata.DataLoader(test_data.transform_first(test_augs),batch_size=batch_size)"
   ]
  },
  {
   "cell_type": "markdown",
   "metadata": {},
   "source": [
    "## model(fine tuning)"
   ]
  },
  {
   "cell_type": "code",
   "execution_count": null,
   "metadata": {
    "scrolled": true
   },
   "outputs": [],
   "source": [
    "ctx=mx.gpu()\n",
    "pretrained_net=model_zoo.vision.resnet18_v2(pretrained=True)\n",
    "finetune_net=model_zoo.vision.resnet18_v2(classes=2)\n",
    "finetune_net.output.initialize(force_reinit=True,init=init.Xavier())\n",
    "finetune_net.features=pretrained_net.features\n",
    "finetune_net.collect_params().reset_ctx(ctx)"
   ]
  },
  {
   "cell_type": "markdown",
   "metadata": {},
   "source": [
    "## train & eva"
   ]
  },
  {
   "cell_type": "code",
   "execution_count": null,
   "metadata": {},
   "outputs": [],
   "source": [
    "num_epochs=5\n",
    "loss=gloss.SoftmaxCrossEntropyLoss()\n",
    "trainer=gluon.Trainer(finetune_net.collect_params(),'sgd',{'learning_rate':0.01,'wd':0.001})\n",
    "gb.train(train_iter,test_iter,finetune_net,loss,trainer,ctx,num_epochs) "
   ]
  }
 ],
 "metadata": {
  "kernelspec": {
   "display_name": "Python 3",
   "language": "python",
   "name": "python3"
  },
  "language_info": {
   "codemirror_mode": {
    "name": "ipython",
    "version": 3
   },
   "file_extension": ".py",
   "mimetype": "text/x-python",
   "name": "python",
   "nbconvert_exporter": "python",
   "pygments_lexer": "ipython3",
   "version": "3.5.2"
  }
 },
 "nbformat": 4,
 "nbformat_minor": 2
}
