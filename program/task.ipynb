{
 "cells": [
  {
   "cell_type": "code",
   "execution_count": 1,
   "metadata": {},
   "outputs": [],
   "source": [
    "import torch \n",
    "import torch.nn as nn\n",
    "import torch.optim as optim\n",
    "from torchvision.datasets.mnist import MNIST\n",
    "import torchvision.transforms as transforms\n",
    "from torch.utils.data import DataLoader\n",
    "from collections import OrderedDict"
   ]
  },
  {
   "cell_type": "code",
   "execution_count": 2,
   "metadata": {},
   "outputs": [],
   "source": [
    "data_train=MNIST('../data/pytorch_data/mnist',download=True,transform=transforms.Compose([\n",
    "    transforms.Resize((32,32)),\n",
    "    transforms.ToTensor()\n",
    "]))\n",
    "data_test=MNIST('../data/pytorch_data/mnist',train=False,download=True,transform=transforms.Compose([\n",
    "    transforms.Resize((32,32)),\n",
    "    transforms.ToTensor()\n",
    "]))"
   ]
  },
  {
   "cell_type": "code",
   "execution_count": 3,
   "metadata": {},
   "outputs": [],
   "source": [
    "train_iter=DataLoader(data_train,batch_size=256,shuffle=True,num_workers=4)\n",
    "test_iter=DataLoader(data_test,batch_size=256,num_workers=4)"
   ]
  },
  {
   "cell_type": "code",
   "execution_count": null,
   "metadata": {},
   "outputs": [],
   "source": [
    "def rotate_(x,weight):\n",
    "    sort=x.reshape(-1).argsort()\n",
    "    max=sort[-1]\n",
    "    if max==4:\n",
    "        max=sort[-2]\n",
    "    r=max//3\n",
    "    l=max%3\n",
    "    if r>l:\n",
    "        degree=-(r*45+l*45)\n",
    "    else:\n",
    "        degree=r*45+l*45\n",
    "    weight=Image.fromarray(weight)\n",
    "    weight_rotate=weight.rotate(degree)\n",
    "    return np.array(weight_rotate)"
   ]
  },
  {
   "cell_type": "code",
   "execution_count": 15,
   "metadata": {},
   "outputs": [],
   "source": [
    "import torch.nn.functional as F\n",
    "class Conv(nn.Module):\n",
    "    def __init__(self,in_channels,out_channels):\n",
    "        super(Conv,self).__init__()\n",
    "        kernel=torch.randn(out_channels,in_channels,3,3)\n",
    "        kernel=torch.FloatTensor(kernel)\n",
    "        self.weight=nn.Parameter(data=kernel,requires_grad=True)\n",
    "    def forward(self,x):\n",
    "        x=F.conv2d(x,self.weight)\n",
    "        return x ,self.weight"
   ]
  },
  {
   "cell_type": "code",
   "execution_count": 26,
   "metadata": {},
   "outputs": [
    {
     "data": {
      "text/plain": [
       "torch.Size([6, 1, 3, 3])"
      ]
     },
     "execution_count": 26,
     "metadata": {},
     "output_type": "execute_result"
    }
   ],
   "source": [
    "device=torch.device('cuda:0' if torch.cuda.is_available() else 'cpu')\n",
    "train_iters=iter(train_iter)\n",
    "train_data=next(train_iters)\n",
    "images,labels=train_data[0].to(device),train_data[1].to(device)\n",
    "net=Conv(1,6).cuda()\n",
    "out,weight=net(images)"
   ]
  },
  {
   "cell_type": "code",
   "execution_count": 6,
   "metadata": {},
   "outputs": [],
   "source": [
    "class LeNet5(nn.Module):\n",
    "    def __init__(self):\n",
    "        super(LeNet5,self).__init__()\n",
    "        self.fc=nn.Sequential(OrderedDict([\n",
    "            ('fc6',nn.Linear(120*16,84)),\n",
    "            ('relu6',nn.ReLU()),\n",
    "            ('fc7',nn.Linear(84,10))\n",
    "        ]))\n",
    "        self.convnet=nn.Sequential(OrderedDict([\n",
    "            ('c1',Conv(1,6)),\n",
    "            ('relu1',nn.ReLU()),\n",
    "            ('s2',nn.MaxPool2d(kernel_size=(2,2),stride=2)),\n",
    "            ('c3',Conv(6,16)),\n",
    "            ('relu3',nn.ReLU()),\n",
    "            ('s4',nn.MaxPool2d(kernel_size=(2,2),stride=2)),\n",
    "            ('c5',Conv(16,120)),\n",
    "            ('relu5',nn.ReLU())\n",
    "        ]))\n",
    "    def  forward(self,img):\n",
    "        output=self.convnet(img)\n",
    "        output=output.view(-1,120*16)\n",
    "        output=self.fc(output)\n",
    "        return output"
   ]
  },
  {
   "cell_type": "code",
   "execution_count": 7,
   "metadata": {},
   "outputs": [],
   "source": [
    "device=torch.device('cuda:0' if torch.cuda.is_available() else 'cpu')\n",
    "net=LeNet5()\n",
    "net=net.to(device)\n",
    "loss=nn.CrossEntropyLoss()\n",
    "optimizer=optim.SGD(net.parameters(),lr=0.001,momentum=0.9)"
   ]
  },
  {
   "cell_type": "code",
   "execution_count": 8,
   "metadata": {},
   "outputs": [],
   "source": [
    "def accuracy(data_iter,net):\n",
    "    acc=0.\n",
    "    for i ,(images,labels) in enumerate(data_iter):\n",
    "        images,labels=images.to(device),labels.to(device)\n",
    "        output=net(images)\n",
    "        acc+=(output.argmax(1)==labels).cpu().numpy().mean()\n",
    "    acc/=len(data_iter)\n",
    "    return acc"
   ]
  },
  {
   "cell_type": "code",
   "execution_count": 9,
   "metadata": {},
   "outputs": [],
   "source": [
    "device=torch.device('cuda:0' if torch.cuda.is_available() else 'cpu')\n",
    "def train(num_epoch):\n",
    "    for epoch in range(1,num_epoch):\n",
    "        for i ,(images,labels) in enumerate(train_iter):\n",
    "            images,labels=images.to(device),labels.to(device)\n",
    "            optimizer.zero_grad()\n",
    "            l=loss(net(images),labels)\n",
    "            l.backward()\n",
    "            optimizer.step()\n",
    "        if epoch %5==0:\n",
    "            train_acc,test_acc=accuracy(train_iter,net),accuracy(test_iter,net)\n",
    "            print('train_acc:%f,test_acc:%f'%(train_acc,test_acc))"
   ]
  },
  {
   "cell_type": "code",
   "execution_count": 10,
   "metadata": {},
   "outputs": [],
   "source": [
    "def test():\n",
    "    imgs,labels=next(iter(test_iter))\n",
    "    imgs=imgs.to(device)\n",
    "    pred=net(imgs).argmax(1) \n",
    "    print(pred[:10].cpu(),labels[:10])"
   ]
  },
  {
   "cell_type": "code",
   "execution_count": 11,
   "metadata": {
    "scrolled": true
   },
   "outputs": [
    {
     "name": "stdout",
     "output_type": "stream",
     "text": [
      "train_acc:0.947767,test_acc:0.949414\n",
      "train_acc:0.960262,test_acc:0.958496\n",
      "tensor([7, 2, 1, 0, 4, 1, 4, 9, 5, 9]) tensor([7, 2, 1, 0, 4, 1, 4, 9, 5, 9])\n"
     ]
    }
   ],
   "source": [
    "if __name__=='__main__':\n",
    "    num_epoch=11\n",
    "    train(num_epoch)\n",
    "    test()"
   ]
  },
  {
   "cell_type": "code",
   "execution_count": null,
   "metadata": {},
   "outputs": [],
   "source": []
  },
  {
   "cell_type": "code",
   "execution_count": null,
   "metadata": {},
   "outputs": [],
   "source": []
  },
  {
   "cell_type": "code",
   "execution_count": null,
   "metadata": {},
   "outputs": [],
   "source": []
  },
  {
   "cell_type": "code",
   "execution_count": 1,
   "metadata": {},
   "outputs": [],
   "source": [
    "import numpy as np\n",
    "from PIL import Image\n",
    "from math import sqrt"
   ]
  },
  {
   "cell_type": "code",
   "execution_count": 2,
   "metadata": {},
   "outputs": [],
   "source": [
    "def rotate_(x,weight):\n",
    "    sort=x.reshape(-1).argsort()\n",
    "    max=sort[-1]\n",
    "    if max==4:\n",
    "        max=sort[-2]\n",
    "    r=max//3\n",
    "    l=max%3\n",
    "    if r>l:\n",
    "        degree=-(r*45+l*45)\n",
    "    else:\n",
    "        degree=r*45+l*45\n",
    "    x=Image.fromarray(x)\n",
    "    x_rotate=x.rotate(degree)\n",
    "    return np.array(x_rotate)"
   ]
  },
  {
   "cell_type": "code",
   "execution_count": null,
   "metadata": {},
   "outputs": [],
   "source": []
  },
  {
   "cell_type": "code",
   "execution_count": 3,
   "metadata": {},
   "outputs": [],
   "source": [
    "def rotate(features,width):\n",
    "    temp=[]\n",
    "    for i in range(width-2):\n",
    "        for j in range(width-2):\n",
    "            x=features[i:i+3,j:j+3]\n",
    "            temp.append(rotate_(x))\n",
    "    rows=int(sqrt(len(temp)))\n",
    "    temp1=[]\n",
    "    for i in range(rows):\n",
    "        temp1.append(np.concatenate(temp[i*rows:i*rows+rows],1))\n",
    "    features_rotate=np.concatenate(temp1,0)\n",
    "    return features_rotate"
   ]
  },
  {
   "cell_type": "code",
   "execution_count": 4,
   "metadata": {
    "scrolled": true
   },
   "outputs": [
    {
     "name": "stdout",
     "output_type": "stream",
     "text": [
      "[[24 33 82 41]\n",
      " [15  5 33 45]\n",
      " [88 85 74 16]\n",
      " [13 79  1 79]]\n",
      "[[88 15 24 85  5 33]\n",
      " [85  5 33 74 33 82]\n",
      " [74 33 82 16 45 41]\n",
      " [88 15  5 85  5 33]\n",
      " [13 85 33 79 74 45]\n",
      " [79  1 74  1 79 16]]\n"
     ]
    }
   ],
   "source": [
    "width=4\n",
    "features=np.uint8(np.random.rand(width**2).reshape(width,width)*100)\n",
    "print(features)\n",
    "features_rotate=rotate(features,width) \n",
    "print(features_rotate)"
   ]
  },
  {
   "cell_type": "code",
   "execution_count": null,
   "metadata": {},
   "outputs": [],
   "source": []
  }
 ],
 "metadata": {
  "kernelspec": {
   "display_name": "Python 3",
   "language": "python",
   "name": "python3"
  },
  "language_info": {
   "codemirror_mode": {
    "name": "ipython",
    "version": 3
   },
   "file_extension": ".py",
   "mimetype": "text/x-python",
   "name": "python",
   "nbconvert_exporter": "python",
   "pygments_lexer": "ipython3",
   "version": "3.5.2"
  }
 },
 "nbformat": 4,
 "nbformat_minor": 2
}
