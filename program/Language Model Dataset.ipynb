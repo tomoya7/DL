{
 "cells": [
  {
   "cell_type": "markdown",
   "metadata": {},
   "source": [
    "## load dataset"
   ]
  },
  {
   "cell_type": "code",
   "execution_count": 48,
   "metadata": {},
   "outputs": [],
   "source": [
    "from mxnet import nd\n",
    "import random\n",
    "import zipfile"
   ]
  },
  {
   "cell_type": "code",
   "execution_count": 49,
   "metadata": {},
   "outputs": [],
   "source": [
    "with zipfile.ZipFile('../data/jaychou_lyrics.txt.zip') as zin:\n",
    "    with zin.open('jaychou_lyrics.txt') as f:\n",
    "        corpus_chars=f.read().decode('utf-8')\n",
    "corpus_chars=corpus_chars.replace('\\n',' ').replace('\\t',' ')\n",
    "corpus_chars=corpus_chars[:10000]"
   ]
  },
  {
   "cell_type": "markdown",
   "metadata": {},
   "source": [
    "## 索引"
   ]
  },
  {
   "cell_type": "code",
   "execution_count": 50,
   "metadata": {},
   "outputs": [],
   "source": [
    "idx_to_char=list(set(corpus_chars))\n",
    "char_to_idx=dict([[char ,idx] for idx,char in enumerate(idx_to_char)])\n",
    "vocal_size=len(char_to_idx)\n",
    "corpus_idxs=[char_to_idx[char] for char in corpus_chars]"
   ]
  },
  {
   "cell_type": "markdown",
   "metadata": {},
   "source": [
    "## 采样"
   ]
  },
  {
   "cell_type": "code",
   "execution_count": 51,
   "metadata": {},
   "outputs": [],
   "source": [
    "import numpy as np\n",
    "def data_iter_random(corpus_idxs,batch_size,num_step):\n",
    "    num_sample=(len(corpus_idxs)-1)//num_step\n",
    "    train_features=np.array(corpus_idxs[:num_sample*num_step]).reshape(num_sample,num_step)\n",
    "    train_labels=np.array(corpus_idxs[1:num_sample*num_step+1]).reshape(num_sample,num_step)\n",
    "    for i in range(num_sample//batch_size):\n",
    "        pos=i*batch_size\n",
    "        X=train_features[pos:pos+batch_size,:]\n",
    "        Y=train_labels[pos:pos+batch_size,:]\n",
    "        yield nd.array(X),nd.array(Y)"
   ]
  },
  {
   "cell_type": "code",
   "execution_count": 52,
   "metadata": {},
   "outputs": [
    {
     "name": "stdout",
     "output_type": "stream",
     "text": [
      "\n",
      "[[ 0.  1.  2.  3.  4.  5.]\n",
      " [ 6.  7.  8.  9. 10. 11.]]\n",
      "<NDArray 2x6 @cpu(0)>\n",
      "\n",
      "[[ 1.  2.  3.  4.  5.  6.]\n",
      " [ 7.  8.  9. 10. 11. 12.]]\n",
      "<NDArray 2x6 @cpu(0)>\n",
      "\n",
      "[[12. 13. 14. 15. 16. 17.]\n",
      " [18. 19. 20. 21. 22. 23.]]\n",
      "<NDArray 2x6 @cpu(0)>\n",
      "\n",
      "[[13. 14. 15. 16. 17. 18.]\n",
      " [19. 20. 21. 22. 23. 24.]]\n",
      "<NDArray 2x6 @cpu(0)>\n"
     ]
    }
   ],
   "source": [
    "my_seq=list(range(30))\n",
    "for X,Y in data_iter_random(my_seq,batch_size=2,num_step=6):\n",
    "    print(X)\n",
    "    print(Y)"
   ]
  },
  {
   "cell_type": "code",
   "execution_count": null,
   "metadata": {},
   "outputs": [],
   "source": []
  }
 ],
 "metadata": {
  "kernelspec": {
   "display_name": "Python 3",
   "language": "python",
   "name": "python3"
  },
  "language_info": {
   "codemirror_mode": {
    "name": "ipython",
    "version": 3
   },
   "file_extension": ".py",
   "mimetype": "text/x-python",
   "name": "python",
   "nbconvert_exporter": "python",
   "pygments_lexer": "ipython3",
   "version": "3.5.2"
  }
 },
 "nbformat": 4,
 "nbformat_minor": 2
}
