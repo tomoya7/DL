{
 "cells": [
  {
   "cell_type": "code",
   "execution_count": 6,
   "metadata": {},
   "outputs": [],
   "source": [
    "import gluonbook as gb\n",
    "from mxnet import autograd,gluon,init,nd\n",
    "from mxnet.gluon import loss as gloss,nn"
   ]
  },
  {
   "cell_type": "markdown",
   "metadata": {},
   "source": [
    "## Dataset"
   ]
  },
  {
   "cell_type": "code",
   "execution_count": 12,
   "metadata": {},
   "outputs": [],
   "source": [
    "batch_size=256\n",
    "train_iter, test_iter = gb.load_data_fashion_mnist(batch_size)"
   ]
  },
  {
   "cell_type": "markdown",
   "metadata": {},
   "source": [
    "## Dropout"
   ]
  },
  {
   "cell_type": "code",
   "execution_count": 7,
   "metadata": {},
   "outputs": [],
   "source": [
    "def dropout(X,drop_prob):\n",
    "    mask=nd.random.uniform(0,1,X.shape)>drop_prob\n",
    "    return mask*X"
   ]
  },
  {
   "cell_type": "code",
   "execution_count": 8,
   "metadata": {},
   "outputs": [],
   "source": [
    "num_inputs,num_outputs,num_hiddens1,num_hiddens2=28*28,10,256,256\n",
    "W1=nd.random.normal(scale=0.01,shape=(num_inputs,num_hiddens1))\n",
    "b1=nd.zeros(num_hiddens1)\n",
    "W2=nd.random.normal(scale=0.01,shape=(num_hiddens1,num_hiddens2))\n",
    "b2=nd.zeros(num_hiddens2)\n",
    "W3=nd.random.normal(scale=0.01,shape=(num_hiddens2,num_outputs))\n",
    "b3=nd.zeros(num_outputs)\n",
    "params=[W1,b1,W2,b2,W3,b3]\n",
    "for param in params:\n",
    "    param.attach_grad()"
   ]
  },
  {
   "cell_type": "code",
   "execution_count": 10,
   "metadata": {},
   "outputs": [],
   "source": [
    "drop_prob1,drop_prob2=0.2,0.5\n",
    "def net(X):\n",
    "    X=X.reshape((-1,num_inputs))\n",
    "    H1=(nd.dot(X,W1)+b1).relu()\n",
    "    if autograd.is_training():\n",
    "        H1=dropout(H1,drop_prob1)\n",
    "    H2=(nd.dot(H1,W2)+b2).relu()\n",
    "    if autograd.is_training():\n",
    "        H2=dropout(H2,drop_prob2)\n",
    "    return nd.dot(H2,W3)+b3"
   ]
  },
  {
   "cell_type": "markdown",
   "metadata": {},
   "source": [
    "## train & eva"
   ]
  },
  {
   "cell_type": "code",
   "execution_count": 11,
   "metadata": {},
   "outputs": [],
   "source": [
    "net=nn.Sequential()\n",
    "net.add(nn.Dense(256,activation='relu'),\n",
    "       nn.Dropout(drop_prob1),\n",
    "       nn.Dense(256,activation='relu'),\n",
    "       nn.Dropout(drop_prob2),\n",
    "       nn.Dense(10))"
   ]
  },
  {
   "cell_type": "code",
   "execution_count": 13,
   "metadata": {
    "scrolled": true
   },
   "outputs": [
    {
     "name": "stdout",
     "output_type": "stream",
     "text": [
      "epoch 1, loss 1.1680, train acc 0.550, test acc 0.780\n",
      "epoch 2, loss 0.5838, train acc 0.783, test acc 0.825\n",
      "epoch 3, loss 0.5016, train acc 0.816, test acc 0.850\n",
      "epoch 4, loss 0.4510, train acc 0.837, test acc 0.852\n",
      "epoch 5, loss 0.4215, train acc 0.848, test acc 0.860\n"
     ]
    }
   ],
   "source": [
    "lr,num_epochs=0.5,5\n",
    "net.initialize(init.Normal(sigma=0.01))\n",
    "loss=gloss.SoftmaxCrossEntropyLoss()\n",
    "trainer=gluon.Trainer(net.collect_params(),'sgd',{'learning_rate':lr})\n",
    "gb.train_ch3(net,train_iter,test_iter,loss,num_epochs,batch_size,None,None,trainer)"
   ]
  }
 ],
 "metadata": {
  "kernelspec": {
   "display_name": "Python 3",
   "language": "python",
   "name": "python3"
  },
  "language_info": {
   "codemirror_mode": {
    "name": "ipython",
    "version": 3
   },
   "file_extension": ".py",
   "mimetype": "text/x-python",
   "name": "python",
   "nbconvert_exporter": "python",
   "pygments_lexer": "ipython3",
   "version": "3.5.2"
  }
 },
 "nbformat": 4,
 "nbformat_minor": 2
}
