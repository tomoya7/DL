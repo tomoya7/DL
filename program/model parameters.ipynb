{
 "cells": [
  {
   "cell_type": "code",
   "execution_count": 23,
   "metadata": {},
   "outputs": [],
   "source": [
    "from mxnet import init,nd\n",
    "from mxnet.gluon import nn"
   ]
  },
  {
   "cell_type": "code",
   "execution_count": 24,
   "metadata": {},
   "outputs": [],
   "source": [
    "net=nn.Sequential()\n",
    "net.add(nn.Dense(256,activation='relu'))\n",
    "net.add(nn.Dense(10))\n",
    "net.initialize()\n",
    "X=nd.random.uniform(shape=(2,20))\n",
    "y=net(X)"
   ]
  },
  {
   "cell_type": "code",
   "execution_count": 10,
   "metadata": {},
   "outputs": [
    {
     "data": {
      "text/plain": [
       "dense8_ (\n",
       "  Parameter dense8_weight (shape=(256, 20), dtype=float32)\n",
       "  Parameter dense8_bias (shape=(256,), dtype=float32)\n",
       ")"
      ]
     },
     "execution_count": 10,
     "metadata": {},
     "output_type": "execute_result"
    }
   ],
   "source": [
    "net[0].params"
   ]
  },
  {
   "cell_type": "code",
   "execution_count": 15,
   "metadata": {},
   "outputs": [
    {
     "data": {
      "text/plain": [
       "(\n",
       " [[ 0.03221709  0.06502857 -0.0263277  ...  0.02527625 -0.0343901\n",
       "   -0.05805862]\n",
       "  [-0.06187592 -0.06210143 -0.00918167 ... -0.00299651 -0.00648244\n",
       "    0.02479142]\n",
       "  [ 0.00512109  0.01498631  0.05553398 ...  0.0566195  -0.01631505\n",
       "    0.02040984]\n",
       "  ...\n",
       "  [ 0.03173313  0.01789995  0.02519771 ... -0.06176154 -0.03986754\n",
       "   -0.04898471]\n",
       "  [ 0.00564718  0.04665586 -0.00028374 ...  0.05332779  0.02100175\n",
       "   -0.06427249]\n",
       "  [ 0.0438781   0.05357236  0.02753124 ...  0.04084889 -0.01963295\n",
       "    0.05668835]]\n",
       " <NDArray 256x20 @cpu(0)>, \n",
       " [[0. 0. 0. ... 0. 0. 0.]\n",
       "  [0. 0. 0. ... 0. 0. 0.]\n",
       "  [0. 0. 0. ... 0. 0. 0.]\n",
       "  ...\n",
       "  [0. 0. 0. ... 0. 0. 0.]\n",
       "  [0. 0. 0. ... 0. 0. 0.]\n",
       "  [0. 0. 0. ... 0. 0. 0.]]\n",
       " <NDArray 256x20 @cpu(0)>)"
      ]
     },
     "execution_count": 15,
     "metadata": {},
     "output_type": "execute_result"
    }
   ],
   "source": [
    "net[0].weight.data(),net[0].weight.grad()"
   ]
  },
  {
   "cell_type": "code",
   "execution_count": 18,
   "metadata": {},
   "outputs": [
    {
     "data": {
      "text/plain": [
       "\n",
       "[0. 0. 0. 0. 0. 0. 0. 0. 0. 0.]\n",
       "<NDArray 10 @cpu(0)>"
      ]
     },
     "execution_count": 18,
     "metadata": {},
     "output_type": "execute_result"
    }
   ],
   "source": [
    "net[1].bias.data()\n"
   ]
  },
  {
   "cell_type": "code",
   "execution_count": 26,
   "metadata": {},
   "outputs": [
    {
     "data": {
      "text/plain": [
       "(sequential5_ (\n",
       "   Parameter dense10_weight (shape=(256, 20), dtype=float32)\n",
       "   Parameter dense10_bias (shape=(256,), dtype=float32)\n",
       "   Parameter dense11_weight (shape=(10, 256), dtype=float32)\n",
       "   Parameter dense11_bias (shape=(10,), dtype=float32)\n",
       " ), sequential5_ (\n",
       "   Parameter dense10_weight (shape=(256, 20), dtype=float32)\n",
       "   Parameter dense11_weight (shape=(10, 256), dtype=float32)\n",
       " ))"
      ]
     },
     "execution_count": 26,
     "metadata": {},
     "output_type": "execute_result"
    }
   ],
   "source": [
    "\n",
    "net.collect_params(),net.collect_params('.*weight')"
   ]
  },
  {
   "cell_type": "code",
   "execution_count": 33,
   "metadata": {},
   "outputs": [
    {
     "data": {
      "text/plain": [
       "\n",
       "[ 0.00155423  0.0132069  -0.00524754 -0.00524043 -0.00816409  0.00311729\n",
       "  0.00275026  0.000127   -0.01557604  0.00858426 -0.00492214 -0.00216906\n",
       "  0.00108197  0.00087416 -0.0025649   0.00997557 -0.0121245   0.00332696\n",
       " -0.01130804 -0.01404227]\n",
       "<NDArray 20 @cpu(0)>"
      ]
     },
     "execution_count": 33,
     "metadata": {},
     "output_type": "execute_result"
    }
   ],
   "source": [
    "net.initialize(init.Normal(sigma=0.01),force_reinit=True)\n",
    "net[0].weight.data()[0]"
   ]
  },
  {
   "cell_type": "code",
   "execution_count": 36,
   "metadata": {},
   "outputs": [
    {
     "data": {
      "text/plain": [
       "\n",
       "[1. 1. 1. 1. 1. 1. 1. 1. 1. 1. 1. 1. 1. 1. 1. 1. 1. 1. 1. 1.]\n",
       "<NDArray 20 @cpu(0)>"
      ]
     },
     "execution_count": 36,
     "metadata": {},
     "output_type": "execute_result"
    }
   ],
   "source": [
    "net.initialize(init.Constant(1),force_reinit=True)\n",
    "net[0].weight.data()[0]\n"
   ]
  },
  {
   "cell_type": "code",
   "execution_count": 41,
   "metadata": {},
   "outputs": [
    {
     "data": {
      "text/plain": [
       "\n",
       "[-0.1160382  -0.1306339   0.04450211  0.06520993  0.09651941  0.08151212\n",
       "  0.05440566  0.06893285 -0.02437712 -0.10416985 -0.03448185 -0.01359998\n",
       " -0.03151648 -0.03032596  0.02645458 -0.03368763  0.11251804 -0.12730351\n",
       "  0.12652472  0.08560619]\n",
       "<NDArray 20 @cpu(0)>"
      ]
     },
     "execution_count": 41,
     "metadata": {},
     "output_type": "execute_result"
    }
   ],
   "source": [
    "net[0].weight.initialize(init.Xavier(),force_reinit=True)\n",
    "net[0].weight.data()[0]"
   ]
  },
  {
   "cell_type": "code",
   "execution_count": 49,
   "metadata": {},
   "outputs": [
    {
     "data": {
      "text/plain": [
       "\n",
       "[[1. 1. 1. 1. 1. 1. 1. 1.]\n",
       " [1. 1. 1. 1. 1. 1. 1. 1.]\n",
       " [1. 1. 1. 1. 1. 1. 1. 1.]\n",
       " [1. 1. 1. 1. 1. 1. 1. 1.]\n",
       " [1. 1. 1. 1. 1. 1. 1. 1.]\n",
       " [1. 1. 1. 1. 1. 1. 1. 1.]\n",
       " [1. 1. 1. 1. 1. 1. 1. 1.]\n",
       " [1. 1. 1. 1. 1. 1. 1. 1.]]\n",
       "<NDArray 8x8 @cpu(0)>"
      ]
     },
     "execution_count": 49,
     "metadata": {},
     "output_type": "execute_result"
    }
   ],
   "source": [
    "net=nn.Sequential()\n",
    "shared=nn.Dense(8,activation='relu')\n",
    "net.add(nn.Dense(8,activation='relu'),\n",
    "       shared,\n",
    "       nn.Dense(8,activation='relu',params=shared.params))\n",
    "net.initialize()\n",
    "X=nd.random.uniform(shape=(2,20))\n",
    "y=net(X)\n",
    "\n",
    "\n",
    "net[1].weight.data()==net[2].weight.data()"
   ]
  },
  {
   "cell_type": "markdown",
   "metadata": {},
   "source": [
    "## 延后初始化\n"
   ]
  },
  {
   "cell_type": "markdown",
   "metadata": {},
   "source": [
    "在net.initialize()时参数不会被立即初始化，而会在第一次net(X)时真正初始化,因为这时model才知道输入feature的维数(net在construct时只指定了输出大小，这样会比较方便)"
   ]
  },
  {
   "cell_type": "markdown",
   "metadata": {},
   "source": [
    "如果net在construct时指定了输入大小，那么在net.initialize()时会立即初始化，避免延后初始化"
   ]
  },
  {
   "cell_type": "code",
   "execution_count": null,
   "metadata": {},
   "outputs": [],
   "source": []
  }
 ],
 "metadata": {
  "kernelspec": {
   "display_name": "Python 3",
   "language": "python",
   "name": "python3"
  },
  "language_info": {
   "codemirror_mode": {
    "name": "ipython",
    "version": 3
   },
   "file_extension": ".py",
   "mimetype": "text/x-python",
   "name": "python",
   "nbconvert_exporter": "python",
   "pygments_lexer": "ipython3",
   "version": "3.5.2"
  }
 },
 "nbformat": 4,
 "nbformat_minor": 2
}
